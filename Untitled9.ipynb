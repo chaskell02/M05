{
 "cells": [
  {
   "cell_type": "code",
   "execution_count": null,
   "id": "702bf5ab",
   "metadata": {},
   "outputs": [],
   "source": [
    "# test_my_module.py\n",
    "from my_module import add_numbers\n",
    "\n",
    "def test_add_numbers():\n",
    "    result = add_numbers(2, 3)\n",
    "    assert result == 5, \"Addition failed\"\n",
    "\n",
    "def test_add_numbers_negative():\n",
    "    result = add_numbers(-1, 1)\n",
    "    assert result == 0, \"Addition with negative numbers failed\"\n"
   ]
  }
 ],
 "metadata": {
  "kernelspec": {
   "display_name": "Python 3 (ipykernel)",
   "language": "python",
   "name": "python3"
  },
  "language_info": {
   "codemirror_mode": {
    "name": "ipython",
    "version": 3
   },
   "file_extension": ".py",
   "mimetype": "text/x-python",
   "name": "python",
   "nbconvert_exporter": "python",
   "pygments_lexer": "ipython3",
   "version": "3.11.5"
  }
 },
 "nbformat": 4,
 "nbformat_minor": 5
}
